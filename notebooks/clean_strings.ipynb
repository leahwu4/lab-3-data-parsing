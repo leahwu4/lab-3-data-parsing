{
 "cells": [
  {
   "cell_type": "code",
   "execution_count": 34,
   "id": "a001543e",
   "metadata": {},
   "outputs": [
    {
     "name": "stdout",
     "output_type": "stream",
     "text": [
      "             raw\n",
      "0           BOB(\n",
      "1        dana~  \n",
      "2          {EVE/\n",
      "3      \"ALICE   \n",
      "4            BOB\n",
      "5           DANA\n",
      "6        CHARLIE\n",
      "7       alice   \n",
      "8          FRANK\n",
      "9            bob\n",
      "10           eve\n",
      "11        \\dana'\n",
      "12           EVE\n",
      "13      CHARLIE \n",
      "14          -eve\n",
      "15        bob   \n",
      "16           EVE\n",
      "17     .FRANK   \n",
      "18          eve \n",
      "19           EVE\n",
      "20          BOB&\n",
      "21      charlie\"\n",
      "22    ,charlie  \n",
      "23         EVE  \n",
      "24         ]dana\n",
      "25     charlie  \n",
      "26        alice+\n",
      "27         EVE{ \n",
      "28          DANA\n",
      "29       frank  \n",
      "30      CHARLIE!\n",
      "31      |ALICE# \n",
      "32           BOB\n",
      "33        frank^\n",
      "34         alice\n",
      "35          'bob\n",
      "36       CHARLIE\n",
      "37         eve+ \n",
      "38      CHARLIE \n",
      "39       charlie\n",
      "40         dana#\n",
      "41       DANA   \n",
      "42          dana\n",
      "43       CHARLIE\n",
      "44    =charlie! \n",
      "45        bob   \n",
      "46           bob\n",
      "47       ;EVE   \n",
      "48    =charlie  \n",
      "49          dana\n"
     ]
    }
   ],
   "source": [
    "# Task A\n",
    "import pandas as pd\n",
    "df = pd.read_csv(\"~/Documents/python/lab-3-data-parsing/data/messy_strings.csv\")\n",
    "\n",
    "print(df)\n"
   ]
  },
  {
   "cell_type": "code",
   "execution_count": 35,
   "id": "93df46d8",
   "metadata": {},
   "outputs": [],
   "source": [
    "# Task B\n",
    "def clean_strings(strings):\n",
    "    output = []\n",
    "    for string in strings:\n",
    "        cleaned = \"\"\n",
    "        string = string.lower()\n",
    "        for char in string:\n",
    "            if char.isalpha():\n",
    "                cleaned = cleaned + char\n",
    "        if len(cleaned) > 0:\n",
    "            output.append(cleaned)\n",
    "    return pd.Series(output)"
   ]
  },
  {
   "cell_type": "code",
   "execution_count": 36,
   "id": "09bf5014",
   "metadata": {},
   "outputs": [],
   "source": [
    "# Task C\n",
    "df['clean'] = clean_strings(df['raw'])"
   ]
  },
  {
   "cell_type": "code",
   "execution_count": 37,
   "id": "b441332e",
   "metadata": {},
   "outputs": [
    {
     "name": "stdout",
     "output_type": "stream",
     "text": [
      "Length: 50\n",
      "Unique Count: 6\n",
      "Count of each string: clean\n",
      "charlie    12\n",
      "eve        11\n",
      "bob         9\n",
      "dana        9\n",
      "alice       5\n",
      "frank       4\n",
      "Name: count, dtype: int64\n"
     ]
    }
   ],
   "source": [
    "# Task D \n",
    "print(f'Length: {len(df['clean'])}')\n",
    "\n",
    "uniq = df['clean'].nunique()\n",
    "print(f'Unique Count: {uniq}')\n",
    "\n",
    "counts = df['clean'].value_counts()\n",
    "print(f'Count of each string: {counts}')\n"
   ]
  },
  {
   "cell_type": "code",
   "execution_count": null,
   "id": "bcee4279",
   "metadata": {},
   "outputs": [],
   "source": [
    "# Task E\n",
    "df.to_csv('~/Documents/python/lab-3-data-parsing/data/messy_strings_clean.csv', index=False)"
   ]
  }
 ],
 "metadata": {
  "kernelspec": {
   "display_name": "lab_3",
   "language": "python",
   "name": "python3"
  },
  "language_info": {
   "codemirror_mode": {
    "name": "ipython",
    "version": 3
   },
   "file_extension": ".py",
   "mimetype": "text/x-python",
   "name": "python",
   "nbconvert_exporter": "python",
   "pygments_lexer": "ipython3",
   "version": "3.13.5"
  }
 },
 "nbformat": 4,
 "nbformat_minor": 5
}
